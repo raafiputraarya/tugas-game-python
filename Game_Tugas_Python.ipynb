{
  "nbformat": 4,
  "nbformat_minor": 0,
  "metadata": {
    "colab": {
      "provenance": [],
      "authorship_tag": "ABX9TyOWTyc1vP9TzSzicE4g3nc7",
      "include_colab_link": true
    },
    "kernelspec": {
      "name": "python3",
      "display_name": "Python 3"
    },
    "language_info": {
      "name": "python"
    }
  },
  "cells": [
    {
      "cell_type": "markdown",
      "metadata": {
        "id": "view-in-github",
        "colab_type": "text"
      },
      "source": [
        "<a href=\"https://colab.research.google.com/github/raafiputraarya/tugas-game-python/blob/main/Game_Tugas_Python.ipynb\" target=\"_parent\"><img src=\"https://colab.research.google.com/assets/colab-badge.svg\" alt=\"Open In Colab\"/></a>"
      ]
    },
    {
      "cell_type": "markdown",
      "source": [
        "# **Game story**"
      ],
      "metadata": {
        "id": "KpW584xKlcj-"
      }
    },
    {
      "cell_type": "code",
      "execution_count": null,
      "metadata": {
        "colab": {
          "base_uri": "https://localhost:8080/"
        },
        "id": "341nfQstlSut",
        "outputId": "462491a0-244b-408c-eb09-51d94af2edad"
      },
      "outputs": [
        {
          "output_type": "stream",
          "name": "stdout",
          "text": [
            "**** *******  ***    ****   ******\n",
            "*       *    *    *  *   *     *\n",
            "****    *    * * *   ****      *\n",
            "   *    *    *    *  *  *      *\n",
            "****    *    *    *  *   *     *\n",
            "Selamat datang di game cerita sederhana saya!\n",
            "Masukkan nama Anda: gzgz\n",
            "Selamat datang di  game cerita sederhana saya, gzgz!\n",
            "gzgz sedang berada dihutan dan anda tersesat apa yang harus dilakukan untuk keluar dari hutan yang gelap itu\n",
            "Pilih jalan pertama agar keluar dari hutan (jalan bagus/jalan berbatu): jalan berbatu\n",
            "gzgz mendengar suara aneh seperti kuntilanak, apakah anda melanjutkan perjalanan anda?\n",
            "Pilih (lanjut/kembali): lanjut\n",
            "gzgzmelihat suara aneh di suatu tempat yang jauh!, apakah anda ingin (mendatanginya/tetap jalan)\n",
            "pilih (mendatangi/tetap jalan)tetap jalan\n",
            "SELAMAT!....  Ternyata anda melihat rumah penduduk\n",
            "Selamat datang di game cerita sederhana saya!\n"
          ]
        }
      ],
      "source": [
        "print(\"**** *******  ***    ****   ******\")\n",
        "print(\"*       *    *    *  *   *     *\")\n",
        "print(\"****    *    * * *   ****      *\")\n",
        "print(\"   *    *    *    *  *  *      *\")\n",
        "print(\"****    *    *    *  *   *     *\")\n",
        "\n",
        "\n",
        "import os\n",
        "import time\n",
        "time.sleep(3)\n",
        "os.system('clear')\n",
        "\n",
        "\n",
        "\n",
        "def memulai_permainan():\n",
        "    print(\"Selamat datang di game cerita sederhana saya!\")\n",
        "    name = input(\"Masukkan nama Anda: \")\n",
        "\n",
        "    print(f\"Selamat datang di  game cerita sederhana saya, {name}!\")\n",
        "    skor = 0\n",
        "\n",
        "    print(f\"{name} sedang berada dihutan dan anda tersesat apa yang harus dilakukan untuk keluar dari hutan yang gelap itu\")\n",
        "    pilihan1 = input(\"Pilih jalan pertama agar keluar dari hutan (jalan bagus/jalan berbatu): \")\n",
        "\n",
        "    if pilihan1.lower() == \"jalan bagus\":\n",
        "        print(f\"{name} Anda menemui singa di jalan. Apa yang ingin Anda lakukan?\")\n",
        "        pilihan2 = input(\"Apakah Anda ingin mencoba berjalan terus ke jalan yang bagus atau kembali ke titik awal? (jalan/kembali): \")\n",
        "\n",
        "        if pilihan2.lower() == \"jalan\":\n",
        "            print(f\"{name} anda di terkam singa... Anda MATI!\")\n",
        "            skor += 1\n",
        "            print(\"anda sudah kalah\")\n",
        "\n",
        "        else:\n",
        "            print(\"Anda kembali ke titik awal.\")\n",
        "\n",
        "    elif pilihan1.lower() == \"jalan berbatu\":\n",
        "        print(f\"{name} mendengar suara aneh seperti kuntilanak, apakah anda melanjutkan perjalanan anda?\")\n",
        "        pilihan3 = input(\"Pilih (lanjut/kembali): \")\n",
        "\n",
        "        if pilihan3.lower() == \"lanjut\":\n",
        "            print(f\"{name}melihat suara aneh di suatu tempat yang jauh!, apakah anda ingin (mendatanginya/tetap jalan)\")\n",
        "            pilihan3 = input('pilih (mendatangi/tetap jalan)')\n",
        "            if pilihan3.lower() == \"tetap jalan\":\n",
        "                print('SELAMAT!....  Ternyata anda melihat rumah penduduk')\n",
        "\n",
        "                while True:\n",
        "                    memulai_permainan()\n",
        "                    ulangi = input(\"Ingin mengulang permainan? (ya/tidak) \")\n",
        "                    if ulangi.lower() != \"ya\":\n",
        "                        break\n",
        "\n",
        "\n",
        "            else:\n",
        "                print('anda ternyata tambah tersesat dan anda makin tersesat dan MATI')\n",
        "\n",
        "\n",
        "        else:\n",
        "            print(\"Anda kembali ke titik awal.\")\n",
        "\n",
        "\n",
        "\n",
        "    else:\n",
        "        print(f\"Pilihan {name} pasrah di hutan dan akhirnya MATI!\")\n",
        "\n",
        "if __name__== \"__main__\":\n",
        "    memulai_permainan()\n"
      ]
    }
  ]
}